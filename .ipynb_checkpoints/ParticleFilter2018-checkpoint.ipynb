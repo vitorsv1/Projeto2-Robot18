{
 "cells": [
  {
   "cell_type": "markdown",
   "metadata": {},
   "source": [
    "# Filtro de partículas - 2018\n",
    "\n",
    "\n",
    "Todo seu trabalho deve ficar no arquivo `projeto_pf.py`, que deve ficar num repositório Git privado (que pode estar no Github ou no Gitlab). Você deve adicionar os professores  em seu repositório (fabiomiranda@insper.edu.br  e andrewtnk@insper.edu.br )\n",
    "\n",
    "A idéia é que você trabalhe somente na `projeto_pf.py` e use este *notebook* somente para instruções e para testar o que fez. Quando seu projeto estiver pronto o arquivo GIF gerado vai mostrar as partículas convergindo para a posição do robô.\n",
    "\n",
    "Cada partícula vai ser representada por um objeto da classe `Particle`, do arquivo `pf.py`, que contém os atributos `x`,`y`,`theta` e `W`.  O atributo `W` é a probabilidade. \n",
    "\n",
    "Este projeto é individual. Lembre-se dos [princípios de honestidade de código](https://docs.google.com/document/d/e/2PACX-1vTiAczPm5Vxi7TXphB135LFH-Munp9X8ISHkeujrTvJtOmQaCC1iAUkoPdHgvkWhIkLsE0e1-T3ZGJ3/pub).\n",
    "\n",
    "\n",
    "\n",
    "\n",
    "# Atividades\n",
    "\n",
    "\n",
    "1. Crie uma função que gere n partículas aleatórias distribuídas uniformemente dentro de uma área minx, miny, maxx, maxy, n_particulas (passados como parâmetros). Veja a funcao `create_particles` no módulo `pf` para se inspirar. Sua função deve se chamar `cria_particulas` e ficar no arquivo `projeto_pf.py`.  \n",
    "Esta função deve devolver o número de partículas solicitado\n",
    "\n",
    "2. Crie uma função que aplica o deslocamento pelo qual o robô padrão [delta_x, delta_y, delta_theta] normal com um desvio padrão [std_x, std_y, std_theta] a todas as partículas.  Esta função deve se chamar `move_particulas` e está também no arquivo `projeto_pf.py`.\n",
    "\n",
    "3. Descubra como calcular $P(D|H)$ analisando o Python Notebook. A função que traça os raios está no modulo inspercles\n",
    "\n",
    "Programe a aplicação da equação que está na pág. 853 do livro do Norvig $$P(z_t | x_t) = \\alpha \\prod_{j}^M{e^{\\frac{-(z_j - \\hat{z_j})}{2\\sigma^2}}}$$\n",
    "\n",
    "Ou seja, para cada raio estimado $\\hat{z_j}$ e leitura real $z_j$ calcule a probabilidade daquele raio  real ter acontecido se o robô estivesse na posição em que a partícula está\n",
    "\n",
    "Faça o traçado dos raios e o cálculo da probabilidade na função `leituras_laser_evidencias`, que também está no arquivo `projeto_pf`\n",
    "\n",
    "Note que o valor dos $P(H)$ calculados a cada iteração devem ir para o atributo `W` dos objetos da classe partículas. \n",
    "\n",
    "4 . Reamostre as partículas de forma proporcional à probabilidade na função `reamostrar`. Baseie-se no `notebook` chamado `como_sortear`, mas lembre-se de que você precisa incluir uma variação normal às partículas reproduzidas.  **Lembre-se também que depois de reamostrar as partículas precisam ter seu peso W tornado igual novamente**.\n",
    "\n",
    "### Atenção:\n",
    "\n",
    "Instale o pacote attrs fazendo:\n",
    "\n",
    "    conda install attrs\n"
   ]
  },
  {
   "cell_type": "code",
   "execution_count": 1,
   "metadata": {},
   "outputs": [
    {
     "ename": "ModuleNotFoundError",
     "evalue": "No module named 'cv2'",
     "output_type": "error",
     "traceback": [
      "\u001b[1;31m---------------------------------------------------------------------------\u001b[0m",
      "\u001b[1;31mModuleNotFoundError\u001b[0m                       Traceback (most recent call last)",
      "\u001b[1;32m<ipython-input-1-747cde390515>\u001b[0m in \u001b[0;36m<module>\u001b[1;34m()\u001b[0m\n\u001b[1;32m----> 1\u001b[1;33m \u001b[1;32mimport\u001b[0m \u001b[0mprojeto_pf\u001b[0m \u001b[1;31m# Seu trabalho fica em projeto_pf. Você não deveria precisar editar este notebook\u001b[0m\u001b[1;33m\u001b[0m\u001b[0m\n\u001b[0m\u001b[0;32m      2\u001b[0m \u001b[1;33m\u001b[0m\u001b[0m\n\u001b[0;32m      3\u001b[0m \u001b[1;32mimport\u001b[0m \u001b[0minspercles\u001b[0m\u001b[1;33m\u001b[0m\u001b[0m\n\u001b[0;32m      4\u001b[0m \u001b[1;32mimport\u001b[0m \u001b[0mgraphics_nb\u001b[0m\u001b[1;33m\u001b[0m\u001b[0m\n\u001b[0;32m      5\u001b[0m \u001b[1;32mimport\u001b[0m \u001b[0mimportlib\u001b[0m\u001b[1;33m\u001b[0m\u001b[0m\n",
      "\u001b[1;32m~\\Dropbox\\Insper\\2018.1\\Robótica Computacional\\Projeto2-Robot18\\projeto_pf.py\u001b[0m in \u001b[0;36m<module>\u001b[1;34m()\u001b[0m\n\u001b[0;32m      7\u001b[0m \u001b[1;32mfrom\u001b[0m \u001b[0mpf\u001b[0m \u001b[1;32mimport\u001b[0m \u001b[0mParticle\u001b[0m\u001b[1;33m,\u001b[0m \u001b[0mcreate_particles\u001b[0m\u001b[1;33m\u001b[0m\u001b[0m\n\u001b[0;32m      8\u001b[0m \u001b[1;32mimport\u001b[0m \u001b[0mnumpy\u001b[0m \u001b[1;32mas\u001b[0m \u001b[0mnp\u001b[0m\u001b[1;33m\u001b[0m\u001b[0m\n\u001b[1;32m----> 9\u001b[1;33m \u001b[1;32mimport\u001b[0m \u001b[0minspercles\u001b[0m \u001b[1;31m# necessário para o a função nb_lidar que simula o laser\u001b[0m\u001b[1;33m\u001b[0m\u001b[0m\n\u001b[0m\u001b[0;32m     10\u001b[0m \u001b[1;32mimport\u001b[0m \u001b[0mmath\u001b[0m\u001b[1;33m\u001b[0m\u001b[0m\n\u001b[0;32m     11\u001b[0m \u001b[1;33m\u001b[0m\u001b[0m\n",
      "\u001b[1;32m~\\Dropbox\\Insper\\2018.1\\Robótica Computacional\\Projeto2-Robot18\\inspercles.py\u001b[0m in \u001b[0;36m<module>\u001b[1;34m()\u001b[0m\n\u001b[0;32m      9\u001b[0m \u001b[1;32mfrom\u001b[0m \u001b[0mpf\u001b[0m \u001b[1;32mimport\u001b[0m \u001b[0mParticle\u001b[0m\u001b[1;33m\u001b[0m\u001b[0m\n\u001b[0;32m     10\u001b[0m \u001b[1;32mimport\u001b[0m \u001b[0mrayline\u001b[0m\u001b[1;33m\u001b[0m\u001b[0m\n\u001b[1;32m---> 11\u001b[1;33m \u001b[1;32mimport\u001b[0m \u001b[0mcv2\u001b[0m\u001b[1;33m\u001b[0m\u001b[0m\n\u001b[0m\u001b[0;32m     12\u001b[0m \u001b[1;32mfrom\u001b[0m \u001b[0mintersection\u001b[0m\u001b[1;33m.\u001b[0m\u001b[0mintersection\u001b[0m \u001b[1;32mimport\u001b[0m \u001b[0mfind_intersections\u001b[0m\u001b[1;33m\u001b[0m\u001b[0m\n\u001b[0;32m     13\u001b[0m \u001b[1;32mfrom\u001b[0m \u001b[0mintersection\u001b[0m\u001b[1;33m.\u001b[0m\u001b[0msegment\u001b[0m \u001b[1;32mimport\u001b[0m \u001b[0mSegment\u001b[0m\u001b[1;33m\u001b[0m\u001b[0m\n",
      "\u001b[1;31mModuleNotFoundError\u001b[0m: No module named 'cv2'"
     ]
    }
   ],
   "source": [
    "import projeto_pf # Seu trabalho fica em projeto_pf. Você não deveria precisar editar este notebook\n",
    "\n",
    "import inspercles\n",
    "import graphics_nb\n",
    "import importlib\n",
    "importlib.reload(projeto_pf) # Para garantir que o Jupyter sempre relê seu trabalho\n",
    "import matplotlib.pyplot as plt\n",
    "%matplotlib inline\n"
   ]
  },
  {
   "cell_type": "markdown",
   "metadata": {},
   "source": [
    "## Diretório de trabalho"
   ]
  },
  {
   "cell_type": "code",
   "execution_count": null,
   "metadata": {},
   "outputs": [],
   "source": [
    "!pwd\n",
    "\n",
    "\n"
   ]
  },
  {
   "cell_type": "markdown",
   "metadata": {},
   "source": [
    "Criação das partículas: chamamos a função `projeto_pf.cria_particulas()` para fazer a criação inicial. Estamos armazenando na própria `projeto_pf`. "
   ]
  },
  {
   "cell_type": "code",
   "execution_count": null,
   "metadata": {},
   "outputs": [],
   "source": [
    "projeto_pf.particulas = projeto_pf.cria_particulas()\n",
    "\n",
    "\n",
    "\n",
    "    "
   ]
  },
  {
   "cell_type": "markdown",
   "metadata": {},
   "source": [
    "## Mapa com posição inicial"
   ]
  },
  {
   "cell_type": "markdown",
   "metadata": {},
   "source": [
    "Você **não** precisa se preocupar com as funções de desenho. "
   ]
  },
  {
   "cell_type": "code",
   "execution_count": null,
   "metadata": {},
   "outputs": [],
   "source": [
    "graphics_nb.draw_map(projeto_pf.robot)"
   ]
  },
  {
   "cell_type": "markdown",
   "metadata": {},
   "source": [
    "# Simulação da imagem do laser"
   ]
  },
  {
   "cell_type": "markdown",
   "metadata": {},
   "source": [
    "Para simular a leitura **real** do robo, use `inspercles.nb_lidar` passando o objeto robô. \n",
    "\n",
    "Você vai precisar fazer isso dentro da função `leituras_laser_evidencias`(que está em `projeto_pf.py`). Haverá uma leitura simulada para o robô e uma simulada para cada partícula"
   ]
  },
  {
   "cell_type": "code",
   "execution_count": null,
   "metadata": {},
   "outputs": [],
   "source": [
    "r = projeto_pf.robot\n",
    "leituras = inspercles.nb_lidar(r, projeto_pf.angles)\n"
   ]
  },
  {
   "cell_type": "markdown",
   "metadata": {},
   "source": [
    "O *array* leituras é um dicionário em que as chaves são os ângulos do laser relativos ao robô e o valor é a distância em *cm* em que um obstáculo foi observado naquela direção"
   ]
  },
  {
   "cell_type": "code",
   "execution_count": null,
   "metadata": {},
   "outputs": [],
   "source": [
    "leituras"
   ]
  },
  {
   "cell_type": "code",
   "execution_count": null,
   "metadata": {
    "scrolled": true
   },
   "outputs": [],
   "source": [
    "\n",
    "# Você não deve se preocupar com o código abaixo - é só para gerar uma imagem que será mostrada mais adiante\n",
    "leituras, inspercles.lidar_map = inspercles.nb_simulate_lidar_fast(projeto_pf.robot.pose(), projeto_pf.angles, inspercles.np_image)\n",
    "ax = inspercles.nb_draw_map(inspercles.lidar_map, robot=True, pose=projeto_pf.robot.pose())\n",
    "ax.imshow(inspercles.color_image, alpha=0.8)"
   ]
  },
  {
   "cell_type": "markdown",
   "metadata": {},
   "source": [
    "## Loop principal dos movimentos do robô"
   ]
  },
  {
   "cell_type": "markdown",
   "metadata": {},
   "source": [
    "Há uma lista de deslocamentos para o robô chamada `movimentos` no arquivo `projeto_pf`. Vamos usá-la para simular o movimento no filtro de partículas\n",
    "\n",
    "\n"
   ]
  },
  {
   "cell_type": "markdown",
   "metadata": {},
   "source": [
    "Atenção: quando for gerar os arquivos png da entrega por favor apague todos os arquivos do tipo anim*png antes de gerar a versão final"
   ]
  },
  {
   "cell_type": "code",
   "execution_count": null,
   "metadata": {},
   "outputs": [],
   "source": [
    "# No Windows: \n",
    "!del anim*png"
   ]
  },
  {
   "cell_type": "code",
   "execution_count": null,
   "metadata": {},
   "outputs": [],
   "source": [
    "# No Linux ou Mac\n",
    "! rm anim*png"
   ]
  },
  {
   "cell_type": "code",
   "execution_count": null,
   "metadata": {},
   "outputs": [],
   "source": [
    "## Atenção: Você não deveria precisar mexer no código abaixo\n",
    "\n",
    "\n",
    "plt.ioff() # Desliga o modo interativo, para nao aparecerem muitas imagens no meio por causa da animação\n",
    "\n",
    "frames = 1\n",
    "\n",
    "\n",
    "\n",
    "for delta in projeto_pf.movimentos:\n",
    "    \n",
    "    projeto_pf.robot.move(delta)\n",
    "\n",
    "    projeto_pf.move_particulas(projeto_pf.particulas, delta)\n",
    "        \n",
    "    # Simula a leitura do lidar para o robô - versão desenho\n",
    "    leituras, inspercles.lidar_map = inspercles.nb_simulate_lidar_fast(projeto_pf.robot.pose(), projeto_pf.angles, inspercles.np_image)\n",
    "\n",
    "    \n",
    "    # Simula a leitura - versao codigo\n",
    "    \n",
    "    \n",
    "    # Simula o lidar para as particulas\n",
    "    \n",
    "    for p in projeto_pf.particulas:\n",
    "        leituras = inspercles.nb_lidar(p, projeto_pf.angles)\n",
    "        \n",
    "    # Atualiza probabilidade e posicoes\n",
    "    projeto_pf.leituras_laser_evidencias(projeto_pf.robot, projeto_pf.particulas)\n",
    "    \n",
    "    # Reamostra as particulas\n",
    "    projeto_pf.particulas = projeto_pf.reamostrar(projeto_pf.particulas)\n",
    "    \n",
    "    \n",
    "    # Desenha as particulas\n",
    "    ax = inspercles.nb_draw_map(inspercles.np_image, pose=projeto_pf.robot.pose(), robot=True, particles=projeto_pf.particulas)\n",
    "\n",
    "    # Desenha o mapa do lidar como fundo\n",
    "    ax.imshow(inspercles.lidar_map, alpha=0.5)\n",
    "    \n",
    "    plt.savefig(\"anim%04d.png\"%frames, bounds=\"tight\")\n",
    "    \n",
    "    frames+=1\n",
    "    plt.close('all')\n",
    "\n",
    "\n",
    "plt.ion()\n",
    "\n"
   ]
  },
  {
   "cell_type": "markdown",
   "metadata": {},
   "source": [
    "### Gerando o arquivo da animação em GIF"
   ]
  },
  {
   "cell_type": "markdown",
   "metadata": {},
   "source": [
    "Para gerar os gifs é preciso ter o pacote *imagemagick*, que pode ser obtido neste [site](https://www.imagemagick.org/script/index.php).\n",
    "    \n",
    "Agora vamos invocar na linha de comando o seguinte comando:\n",
    "    convert -delay 10 -loop 1 anim*png animated.gif\n",
    "    \n",
    "Este comando criou um arquivo chamado *animated.gif*, que leremos abaixo:\n",
    "    "
   ]
  },
  {
   "cell_type": "code",
   "execution_count": null,
   "metadata": {},
   "outputs": [],
   "source": [
    "!convert -delay 10 -loop 1 anim*png animated.gif"
   ]
  },
  {
   "cell_type": "markdown",
   "metadata": {},
   "source": [
    "Infelizmente o Jupyter Notebook não parece exibir animações em `Gif` por default, mas você pode abrir o arquivo no diretório de trabalho e deverá  vê-lo.\n",
    "\n",
    "<img src=\"animated.gif\">"
   ]
  },
  {
   "cell_type": "markdown",
   "metadata": {},
   "source": [
    "![](anim.gif)"
   ]
  },
  {
   "cell_type": "markdown",
   "metadata": {},
   "source": [
    "\n",
    "Imagem\n",
    "![](\"./animated.gif\")"
   ]
  },
  {
   "cell_type": "code",
   "execution_count": null,
   "metadata": {},
   "outputs": [],
   "source": []
  }
 ],
 "metadata": {
  "kernelspec": {
   "display_name": "Python 3",
   "language": "python",
   "name": "python3"
  },
  "language_info": {
   "codemirror_mode": {
    "name": "ipython",
    "version": 3
   },
   "file_extension": ".py",
   "mimetype": "text/x-python",
   "name": "python",
   "nbconvert_exporter": "python",
   "pygments_lexer": "ipython3",
   "version": "3.6.4"
  }
 },
 "nbformat": 4,
 "nbformat_minor": 2
}
